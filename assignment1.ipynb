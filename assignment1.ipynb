{
  "nbformat": 4,
  "nbformat_minor": 0,
  "metadata": {
    "colab": {
      "provenance": [],
      "toc_visible": true
    },
    "kernelspec": {
      "name": "python3",
      "display_name": "Python 3"
    },
    "language_info": {
      "name": "python"
    }
  },
  "cells": [
    {
      "cell_type": "code",
      "execution_count": null,
      "metadata": {
        "colab": {
          "base_uri": "https://localhost:8080/"
        },
        "id": "T18CGHRlucqi",
        "outputId": "b707e331-0668-4de2-e58a-2d38ecc33ec7"
      },
      "outputs": [
        {
          "output_type": "stream",
          "name": "stdout",
          "text": [
            "enter length of the rectangle13\n",
            "enter width of ractangle14\n",
            "area of rectangle is 182.0\n"
          ]
        }
      ],
      "source": [
        "#write a python program to calculate the area of a rectangle given its length and width\n",
        "\n",
        "length=float(input(\"enter length of the rectangle\"))\n",
        "width=float(input(\"enter width of ractangle\"))\n",
        "area=length*width\n",
        "print(\"area of rectangle is\",area)"
      ]
    },
    {
      "cell_type": "code",
      "source": [
        "#create a program that take two numbers and caluculate their sum,difference,product and quotient\n",
        "\n",
        "num1=float(input(\"enter a your first number\"))\n",
        "num2=float(input(\"enter your second number\"))\n",
        "print(\"sum :\",num1+num2)\n",
        "print(\"difference :\",num1-num2)\n",
        "print(\"product :\",num1*num2)\n",
        "if num2==0:\n",
        "  print(\"ERROR:division by zero not possible\")\n",
        "else:\n",
        "  print(\"quotient :\",num1/num2)"
      ],
      "metadata": {
        "colab": {
          "base_uri": "https://localhost:8080/"
        },
        "id": "-qP6GcaMummX",
        "outputId": "968de7fa-f108-483c-86fc-425cc704b0b9"
      },
      "execution_count": null,
      "outputs": [
        {
          "output_type": "stream",
          "name": "stdout",
          "text": [
            "enter a your first number67\n",
            "enter your second number5\n",
            "sum : 72.0\n",
            "difference : 62.0\n",
            "product : 335.0\n",
            "quotient : 13.4\n"
          ]
        }
      ]
    },
    {
      "cell_type": "code",
      "source": [
        "#write a program to convert temperature from Farenheit to Celcius and vice versa,based on user input\n",
        "\n",
        "print(\"\"\"converting farenheit to celcius and vice versa\n",
        "1.from Farenheit to Celsius\n",
        "2.from Celsius to Farenheit\"\"\")\n",
        "opt=int(input(\"enter your choice(number)\"))\n",
        "if opt==1:\n",
        "  f1=float(input(\"enter temperature in farenheit\"))\n",
        "  c1=(f1-32)*5/9\n",
        "  print(\"temperature in celsius\",c1)\n",
        "elif opt==2:\n",
        "  c2=float(input(\"enter temperature in celsius\"))\n",
        "  f2=(9/5*c2)+32\n",
        "  print(\"temperature in farenheit\",f2)\n",
        "else:\n",
        "  print(\"enter valid option\")\n"
      ],
      "metadata": {
        "colab": {
          "base_uri": "https://localhost:8080/"
        },
        "id": "g_9kZ1hEu12r",
        "outputId": "d8f1245d-5c7b-49f6-8c8e-6b620b3156ff"
      },
      "execution_count": null,
      "outputs": [
        {
          "output_type": "stream",
          "name": "stdout",
          "text": [
            "converting farenheit to celcius and vice versa\n",
            "1.from Farenheit to Celsius\n",
            "2.from Celsius to Farenheit\n",
            "enter your choice(number)1\n",
            "enter temperature in farenheit64\n",
            "temperature in celsius 17.77777777777778\n"
          ]
        }
      ]
    },
    {
      "cell_type": "code",
      "source": [
        "#implement a program that checks if a given number is positive,negative or zero\n",
        "\n",
        "a=float(input(\"enter a number\"))\n",
        "if a==0:\n",
        "  print(\"the number is zero\")\n",
        "elif a>0:\n",
        "  print(\"the number is positive\")\n",
        "else:\n",
        "  print(\"the number is negative\")"
      ],
      "metadata": {
        "colab": {
          "base_uri": "https://localhost:8080/"
        },
        "id": "60JmwvocvGd6",
        "outputId": "bb88de7a-72df-434d-c15f-1e5b8a0e88fc"
      },
      "execution_count": null,
      "outputs": [
        {
          "output_type": "stream",
          "name": "stdout",
          "text": [
            "enter a number89\n",
            "the number is positive\n"
          ]
        }
      ]
    },
    {
      "cell_type": "code",
      "source": [
        "#write a python function that determines if a year is a leap year\n",
        "\n",
        "def leap_year(year):\n",
        "  if year%100!=0 and year%4==0:\n",
        "    print(year,\"is a leap year\")\n",
        "  elif year%100==0 and year%400==0:\n",
        "    print(year,\"is a leap year\")\n",
        "  else:\n",
        "    print(year,\"is not a leap year\")\n",
        "\n",
        "y=int(input(\"enter a year\"))\n",
        "leap_year(y)"
      ],
      "metadata": {
        "colab": {
          "base_uri": "https://localhost:8080/"
        },
        "id": "RehwhAU_vNin",
        "outputId": "e839e789-6a8d-4110-9d15-759e48a93e66"
      },
      "execution_count": null,
      "outputs": [
        {
          "output_type": "stream",
          "name": "stdout",
          "text": [
            "enter a year2020\n",
            "2020 is a leap year\n"
          ]
        }
      ]
    },
    {
      "cell_type": "code",
      "source": [
        "#create a program to categorize a given students grade\n",
        "\n",
        "grade=float(input(\"enter score (out of 100)\"))\n",
        "if 100>=grade>=90:\n",
        "  print(\"A\")\n",
        "elif 89>=grade>=80:\n",
        "  print(\"B\")\n",
        "elif 79>=grade>=70:\n",
        "  print(\"C\")\n",
        "elif 69>=grade>=60:\n",
        "  print(\"D\")\n",
        "elif 59>=grade>=0:\n",
        "  print(\"F\")\n",
        "else:\n",
        "  print(\"enter a score between 0 and 100\")"
      ],
      "metadata": {
        "colab": {
          "base_uri": "https://localhost:8080/"
        },
        "id": "PD8ccRi3vZH9",
        "outputId": "e6d80cbd-b9e2-4304-a3ef-59d71439f5af"
      },
      "execution_count": null,
      "outputs": [
        {
          "output_type": "stream",
          "name": "stdout",
          "text": [
            "enter score (out of 100)76\n",
            "C\n"
          ]
        }
      ]
    },
    {
      "cell_type": "code",
      "source": [
        "#python loop to print numbers from 10 to 1\n",
        "\n",
        "for i in range(10,0,-1):\n",
        "  print(i)"
      ],
      "metadata": {
        "colab": {
          "base_uri": "https://localhost:8080/"
        },
        "id": "b6Yz7E0KvfUU",
        "outputId": "c7016a0a-c06b-4507-8441-4c7961c0b001"
      },
      "execution_count": null,
      "outputs": [
        {
          "output_type": "stream",
          "name": "stdout",
          "text": [
            "10\n",
            "9\n",
            "8\n",
            "7\n",
            "6\n",
            "5\n",
            "4\n",
            "3\n",
            "2\n",
            "1\n"
          ]
        }
      ]
    },
    {
      "cell_type": "code",
      "source": [
        "#write a program that prints all even numbers between 1 to 20 using a for loop\n",
        "\n",
        "for i in range(1,21):\n",
        "  if i%2==0:\n",
        "    print(i)"
      ],
      "metadata": {
        "colab": {
          "base_uri": "https://localhost:8080/"
        },
        "id": "pS1Ko7G4vioL",
        "outputId": "7d936314-eedf-4888-86c1-06b5603a371d"
      },
      "execution_count": null,
      "outputs": [
        {
          "output_type": "stream",
          "name": "stdout",
          "text": [
            "2\n",
            "4\n",
            "6\n",
            "8\n",
            "10\n",
            "12\n",
            "14\n",
            "16\n",
            "18\n",
            "20\n"
          ]
        }
      ]
    },
    {
      "cell_type": "code",
      "source": [
        "#write a program that  generates and prints the multiplication table for a given numbers\n",
        "\n",
        "m=int(input(\"enter an integer\"))\n",
        "print(\"multiplication table\")\n",
        "for i in range(1,11):\n",
        "  print(i,\"x\",m,\"=\",i*m)"
      ],
      "metadata": {
        "colab": {
          "base_uri": "https://localhost:8080/"
        },
        "id": "wuT97XI_vm2y",
        "outputId": "e89fda8d-c600-4039-a059-54a27dde2950"
      },
      "execution_count": null,
      "outputs": [
        {
          "output_type": "stream",
          "name": "stdout",
          "text": [
            "enter an integer7\n",
            "multiplication table\n",
            "1 x 7 = 7\n",
            "2 x 7 = 14\n",
            "3 x 7 = 21\n",
            "4 x 7 = 28\n",
            "5 x 7 = 35\n",
            "6 x 7 = 42\n",
            "7 x 7 = 49\n",
            "8 x 7 = 56\n",
            "9 x 7 = 63\n",
            "10 x 7 = 70\n"
          ]
        }
      ]
    }
  ]
}