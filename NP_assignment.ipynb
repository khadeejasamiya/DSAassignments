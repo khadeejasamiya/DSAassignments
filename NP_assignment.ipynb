{
  "cells": [
    {
      "cell_type": "markdown",
      "id": "51968811",
      "metadata": {
        "id": "51968811"
      },
      "source": [
        "# 1. Create a NumPy array of integers from 1 to 10."
      ]
    },
    {
      "cell_type": "code",
      "execution_count": 3,
      "id": "3b284378",
      "metadata": {
        "id": "3b284378"
      },
      "outputs": [],
      "source": [
        "import numpy as np"
      ]
    },
    {
      "cell_type": "code",
      "execution_count": 4,
      "id": "1a4b89f5",
      "metadata": {
        "id": "1a4b89f5"
      },
      "outputs": [],
      "source": [
        "array1=np.arange(1,11)"
      ]
    },
    {
      "cell_type": "code",
      "execution_count": 5,
      "id": "767770a2",
      "metadata": {
        "id": "767770a2",
        "outputId": "17f027c5-0968-43f7-ba26-67ed237d9f18",
        "colab": {
          "base_uri": "https://localhost:8080/"
        }
      },
      "outputs": [
        {
          "output_type": "execute_result",
          "data": {
            "text/plain": [
              "array([ 1,  2,  3,  4,  5,  6,  7,  8,  9, 10])"
            ]
          },
          "metadata": {},
          "execution_count": 5
        }
      ],
      "source": [
        "array1"
      ]
    },
    {
      "cell_type": "markdown",
      "id": "ef3a324d",
      "metadata": {
        "id": "ef3a324d"
      },
      "source": [
        "# 2.Create a 2x3 NumPy array filled with zeros."
      ]
    },
    {
      "cell_type": "code",
      "execution_count": 6,
      "id": "670db7da",
      "metadata": {
        "id": "670db7da"
      },
      "outputs": [],
      "source": [
        "array2=np.zeros((2,3))"
      ]
    },
    {
      "cell_type": "code",
      "execution_count": 7,
      "id": "5646597b",
      "metadata": {
        "id": "5646597b",
        "outputId": "d6ff58db-0c94-4783-a957-b44776c05947",
        "colab": {
          "base_uri": "https://localhost:8080/"
        }
      },
      "outputs": [
        {
          "output_type": "execute_result",
          "data": {
            "text/plain": [
              "array([[0., 0., 0.],\n",
              "       [0., 0., 0.]])"
            ]
          },
          "metadata": {},
          "execution_count": 7
        }
      ],
      "source": [
        "array2"
      ]
    },
    {
      "cell_type": "markdown",
      "id": "b1e96245",
      "metadata": {
        "id": "b1e96245"
      },
      "source": [
        "# 3. Create a NumPy array of even numbers from 2 to 20"
      ]
    },
    {
      "cell_type": "code",
      "execution_count": 8,
      "id": "1e7753bc",
      "metadata": {
        "id": "1e7753bc"
      },
      "outputs": [],
      "source": [
        "array3=np.arange(2,21,2)"
      ]
    },
    {
      "cell_type": "code",
      "execution_count": 9,
      "id": "a3d72d50",
      "metadata": {
        "id": "a3d72d50",
        "outputId": "4e11a93a-5a12-40c0-a867-051cb0adc17e",
        "colab": {
          "base_uri": "https://localhost:8080/"
        }
      },
      "outputs": [
        {
          "output_type": "execute_result",
          "data": {
            "text/plain": [
              "array([ 2,  4,  6,  8, 10, 12, 14, 16, 18, 20])"
            ]
          },
          "metadata": {},
          "execution_count": 9
        }
      ],
      "source": [
        "array3"
      ]
    },
    {
      "cell_type": "markdown",
      "id": "06fa979b",
      "metadata": {
        "id": "06fa979b"
      },
      "source": [
        "# 4. Given two NumPy arrays, arr1 = np.array([1, 2, 3]) and arr2 = np.array([4, 5, 6]), perform element-wise addition, subtraction, multiplication, and division between the two arrays"
      ]
    },
    {
      "cell_type": "code",
      "execution_count": 10,
      "id": "54e0a2c0",
      "metadata": {
        "id": "54e0a2c0",
        "outputId": "de984867-602b-4257-e9af-bfe0ab4606e0",
        "colab": {
          "base_uri": "https://localhost:8080/"
        }
      },
      "outputs": [
        {
          "output_type": "execute_result",
          "data": {
            "text/plain": [
              "array([1, 2, 3])"
            ]
          },
          "metadata": {},
          "execution_count": 10
        }
      ],
      "source": [
        "arr1=np.array([1,2,3])\n",
        "arr2=np.array([4,5,6])\n",
        "arr1"
      ]
    },
    {
      "cell_type": "code",
      "execution_count": 11,
      "id": "70c8b147",
      "metadata": {
        "id": "70c8b147",
        "outputId": "fc12e475-4f28-435a-9a42-fda9dd050d1f",
        "colab": {
          "base_uri": "https://localhost:8080/"
        }
      },
      "outputs": [
        {
          "output_type": "execute_result",
          "data": {
            "text/plain": [
              "array([4, 5, 6])"
            ]
          },
          "metadata": {},
          "execution_count": 11
        }
      ],
      "source": [
        "arr2"
      ]
    },
    {
      "cell_type": "code",
      "execution_count": 12,
      "id": "9a6fce3a",
      "metadata": {
        "id": "9a6fce3a",
        "outputId": "786604bb-d454-4015-96d9-b4a679eaecc1",
        "colab": {
          "base_uri": "https://localhost:8080/"
        }
      },
      "outputs": [
        {
          "output_type": "execute_result",
          "data": {
            "text/plain": [
              "array([5, 7, 9])"
            ]
          },
          "metadata": {},
          "execution_count": 12
        }
      ],
      "source": [
        "arr1+arr2"
      ]
    },
    {
      "cell_type": "code",
      "execution_count": 13,
      "id": "36de7419",
      "metadata": {
        "id": "36de7419",
        "outputId": "bee8de29-1b2f-4f1c-b58c-e389fed928be",
        "colab": {
          "base_uri": "https://localhost:8080/"
        }
      },
      "outputs": [
        {
          "output_type": "execute_result",
          "data": {
            "text/plain": [
              "array([-3, -3, -3])"
            ]
          },
          "metadata": {},
          "execution_count": 13
        }
      ],
      "source": [
        "arr1-arr2"
      ]
    },
    {
      "cell_type": "code",
      "execution_count": 14,
      "id": "7ddd887b",
      "metadata": {
        "id": "7ddd887b",
        "outputId": "737b84bc-67b6-490e-ce28-d889966c2d81",
        "colab": {
          "base_uri": "https://localhost:8080/"
        }
      },
      "outputs": [
        {
          "output_type": "execute_result",
          "data": {
            "text/plain": [
              "array([ 4, 10, 18])"
            ]
          },
          "metadata": {},
          "execution_count": 14
        }
      ],
      "source": [
        "arr1*arr2"
      ]
    },
    {
      "cell_type": "code",
      "execution_count": 15,
      "id": "ae47e158",
      "metadata": {
        "id": "ae47e158",
        "outputId": "d4107581-9037-4f26-f519-8d04d41dda7b",
        "colab": {
          "base_uri": "https://localhost:8080/"
        }
      },
      "outputs": [
        {
          "output_type": "execute_result",
          "data": {
            "text/plain": [
              "array([0.25, 0.4 , 0.5 ])"
            ]
          },
          "metadata": {},
          "execution_count": 15
        }
      ],
      "source": [
        "arr1/arr2"
      ]
    },
    {
      "cell_type": "markdown",
      "id": "3774f899",
      "metadata": {
        "id": "3774f899"
      },
      "source": [
        "# Compute the mean, median, and standard deviation of a NumPy array containing 100 random numbers"
      ]
    },
    {
      "cell_type": "code",
      "execution_count": 16,
      "id": "0df3e0e9",
      "metadata": {
        "id": "0df3e0e9"
      },
      "outputs": [],
      "source": [
        "array3=np.random.randint(1,1000,100)"
      ]
    },
    {
      "cell_type": "code",
      "execution_count": 17,
      "id": "1bb1fd8c",
      "metadata": {
        "id": "1bb1fd8c",
        "outputId": "78891b70-f767-4779-c8de-5576fc801fe1",
        "colab": {
          "base_uri": "https://localhost:8080/"
        }
      },
      "outputs": [
        {
          "output_type": "execute_result",
          "data": {
            "text/plain": [
              "array([501, 385, 446, 552, 728, 575,  97, 123, 579, 698, 562, 528, 844,\n",
              "       431, 895, 109,  65,  68, 544, 329, 376, 349, 407,  33, 306, 373,\n",
              "       194, 617, 986, 391,  41, 541, 985, 692, 251, 374, 998, 814, 587,\n",
              "       477, 419, 467, 722, 410, 512, 800, 515, 587,  99, 589, 167, 123,\n",
              "       493, 595, 577, 497, 883, 299, 711, 194, 542, 756, 139, 547, 440,\n",
              "       962, 661, 426, 577, 875, 542,  24, 148, 310, 908, 522,  66, 151,\n",
              "       549, 638, 559, 605, 219, 265, 438, 472, 165, 208, 479,   3, 738,\n",
              "       348, 514, 150, 332, 878, 389, 550, 170, 169])"
            ]
          },
          "metadata": {},
          "execution_count": 17
        }
      ],
      "source": [
        "array3"
      ]
    },
    {
      "cell_type": "code",
      "source": [
        "array3.sort()\n",
        "array3"
      ],
      "metadata": {
        "colab": {
          "base_uri": "https://localhost:8080/"
        },
        "id": "v2MHV3qjekWF",
        "outputId": "ad41719b-9cff-418d-c444-403d1bb31445"
      },
      "id": "v2MHV3qjekWF",
      "execution_count": 18,
      "outputs": [
        {
          "output_type": "execute_result",
          "data": {
            "text/plain": [
              "array([  3,  24,  33,  41,  65,  66,  68,  97,  99, 109, 123, 123, 139,\n",
              "       148, 150, 151, 165, 167, 169, 170, 194, 194, 208, 219, 251, 265,\n",
              "       299, 306, 310, 329, 332, 348, 349, 373, 374, 376, 385, 389, 391,\n",
              "       407, 410, 419, 426, 431, 438, 440, 446, 467, 472, 477, 479, 493,\n",
              "       497, 501, 512, 514, 515, 522, 528, 541, 542, 542, 544, 547, 549,\n",
              "       550, 552, 559, 562, 575, 577, 577, 579, 587, 587, 589, 595, 605,\n",
              "       617, 638, 661, 692, 698, 711, 722, 728, 738, 756, 800, 814, 844,\n",
              "       875, 878, 883, 895, 908, 962, 985, 986, 998])"
            ]
          },
          "metadata": {},
          "execution_count": 18
        }
      ]
    },
    {
      "cell_type": "code",
      "execution_count": 19,
      "id": "44b09275",
      "metadata": {
        "id": "44b09275",
        "colab": {
          "base_uri": "https://localhost:8080/"
        },
        "outputId": "7526e1e6-a2c3-489a-d4cf-dfa05b908b16"
      },
      "outputs": [
        {
          "output_type": "stream",
          "name": "stdout",
          "text": [
            "mean 459.44\n",
            "median 478.0\n",
            "standard deviation 251.1667700950904\n"
          ]
        }
      ],
      "source": [
        "print(\"mean\",array3.mean())\n",
        "print(\"median\",np.median(array3))\n",
        "print(\"standard deviation\",np.std(array3))"
      ]
    },
    {
      "cell_type": "markdown",
      "id": "88ad3e4c",
      "metadata": {
        "id": "88ad3e4c"
      },
      "source": [
        "# 6. Reshape a 1D NumPy array of 12 random elements into a 2D array with a shape of (3, 4)"
      ]
    },
    {
      "cell_type": "code",
      "execution_count": 20,
      "id": "d4e37b55",
      "metadata": {
        "id": "d4e37b55"
      },
      "outputs": [],
      "source": [
        "array4=np.random.randint(1,20,12).reshape(3,4)"
      ]
    },
    {
      "cell_type": "code",
      "execution_count": 21,
      "id": "84ab95c4",
      "metadata": {
        "id": "84ab95c4",
        "outputId": "4bbc0c9a-8e10-4a4a-98ac-d86f8dc08abd",
        "colab": {
          "base_uri": "https://localhost:8080/"
        }
      },
      "outputs": [
        {
          "output_type": "execute_result",
          "data": {
            "text/plain": [
              "array([[ 7, 15, 12, 19],\n",
              "       [ 1,  7, 10, 17],\n",
              "       [ 2,  5, 12, 10]])"
            ]
          },
          "metadata": {},
          "execution_count": 21
        }
      ],
      "source": [
        "array4"
      ]
    },
    {
      "cell_type": "markdown",
      "id": "fb7243b1",
      "metadata": {
        "id": "fb7243b1"
      },
      "source": [
        "# 7. Given a NumPy array arr = np.array([1, 2, 3, 4, 5]), square each element in the array using NumPy functions.\n"
      ]
    },
    {
      "cell_type": "code",
      "execution_count": 22,
      "id": "ce9d8b18",
      "metadata": {
        "id": "ce9d8b18",
        "outputId": "6af2e2f3-9044-44d1-a0c9-234357145da7",
        "colab": {
          "base_uri": "https://localhost:8080/"
        }
      },
      "outputs": [
        {
          "output_type": "execute_result",
          "data": {
            "text/plain": [
              "array([1, 2, 3, 4, 5])"
            ]
          },
          "metadata": {},
          "execution_count": 22
        }
      ],
      "source": [
        "arr=np.array([1,2,3,4,5])\n",
        "arr"
      ]
    },
    {
      "cell_type": "code",
      "execution_count": 23,
      "id": "7874558f",
      "metadata": {
        "id": "7874558f",
        "outputId": "85018a66-340e-4dfe-9b44-12d94fa85661",
        "colab": {
          "base_uri": "https://localhost:8080/"
        }
      },
      "outputs": [
        {
          "output_type": "execute_result",
          "data": {
            "text/plain": [
              "array([ 1,  4,  9, 16, 25])"
            ]
          },
          "metadata": {},
          "execution_count": 23
        }
      ],
      "source": [
        "arr**2"
      ]
    },
    {
      "cell_type": "markdown",
      "id": "093cb115",
      "metadata": {
        "id": "093cb115"
      },
      "source": [
        "# 8. Create a 5x5 identity matrix using NumPy.\n"
      ]
    },
    {
      "cell_type": "code",
      "execution_count": 24,
      "id": "10c147c7",
      "metadata": {
        "id": "10c147c7",
        "outputId": "4f3b4779-9d37-43b8-ca23-1c8f8c2b28d8",
        "colab": {
          "base_uri": "https://localhost:8080/"
        }
      },
      "outputs": [
        {
          "output_type": "execute_result",
          "data": {
            "text/plain": [
              "array([[1., 0., 0., 0., 0.],\n",
              "       [0., 1., 0., 0., 0.],\n",
              "       [0., 0., 1., 0., 0.],\n",
              "       [0., 0., 0., 1., 0.],\n",
              "       [0., 0., 0., 0., 1.]])"
            ]
          },
          "metadata": {},
          "execution_count": 24
        }
      ],
      "source": [
        "np.eye(5,5)"
      ]
    },
    {
      "cell_type": "markdown",
      "id": "24885ce6",
      "metadata": {
        "id": "24885ce6"
      },
      "source": [
        "# 9. Calculate the dot product of two NumPy arrays, a = np.array([1, 2, 3]) and b = np.array([4, 5, 6])"
      ]
    },
    {
      "cell_type": "code",
      "execution_count": 25,
      "id": "90272384",
      "metadata": {
        "id": "90272384",
        "outputId": "c5d8b187-610f-47f9-f288-9d190aad7f07",
        "colab": {
          "base_uri": "https://localhost:8080/"
        }
      },
      "outputs": [
        {
          "output_type": "execute_result",
          "data": {
            "text/plain": [
              "array([1, 2, 3])"
            ]
          },
          "metadata": {},
          "execution_count": 25
        }
      ],
      "source": [
        "a=np.array([1,2,3])\n",
        "a"
      ]
    },
    {
      "cell_type": "code",
      "execution_count": 26,
      "id": "34a36934",
      "metadata": {
        "id": "34a36934",
        "outputId": "8e73a22e-5d21-429c-db4a-c539f4d1e914",
        "colab": {
          "base_uri": "https://localhost:8080/"
        }
      },
      "outputs": [
        {
          "output_type": "execute_result",
          "data": {
            "text/plain": [
              "array([4, 5, 6])"
            ]
          },
          "metadata": {},
          "execution_count": 26
        }
      ],
      "source": [
        "b=np.array([4,5,6])\n",
        "b"
      ]
    },
    {
      "cell_type": "code",
      "execution_count": 27,
      "id": "31666ce3",
      "metadata": {
        "id": "31666ce3",
        "outputId": "aff2ae8f-7f69-4cb9-9558-6aa4419e1775",
        "colab": {
          "base_uri": "https://localhost:8080/"
        }
      },
      "outputs": [
        {
          "output_type": "execute_result",
          "data": {
            "text/plain": [
              "32"
            ]
          },
          "metadata": {},
          "execution_count": 27
        }
      ],
      "source": [
        "a.dot(b)"
      ]
    },
    {
      "cell_type": "markdown",
      "id": "a31104bf",
      "metadata": {
        "id": "a31104bf"
      },
      "source": [
        "# 10.Find the index of the maximum value and the index of the minimum value in a NumPy array"
      ]
    },
    {
      "cell_type": "code",
      "execution_count": 28,
      "id": "cb7df7a7",
      "metadata": {
        "id": "cb7df7a7"
      },
      "outputs": [],
      "source": [
        "array5=np.array([5,25,67,89,76,45,34,54,87,67,23,12,14,35,46,57,7,989,79,90,87,65,43,32,21])"
      ]
    },
    {
      "cell_type": "code",
      "execution_count": 29,
      "id": "8b1ecf2c",
      "metadata": {
        "id": "8b1ecf2c",
        "outputId": "d57e9671-b441-4fe8-aea7-71054a4d1bc2",
        "colab": {
          "base_uri": "https://localhost:8080/"
        }
      },
      "outputs": [
        {
          "output_type": "execute_result",
          "data": {
            "text/plain": [
              "array([  5,  25,  67,  89,  76,  45,  34,  54,  87,  67,  23,  12,  14,\n",
              "        35,  46,  57,   7, 989,  79,  90,  87,  65,  43,  32,  21])"
            ]
          },
          "metadata": {},
          "execution_count": 29
        }
      ],
      "source": [
        "array5"
      ]
    },
    {
      "cell_type": "code",
      "execution_count": 30,
      "id": "f65546c4",
      "metadata": {
        "id": "f65546c4",
        "outputId": "903a91f4-5d4f-4d51-c536-56652b2d4a0a",
        "colab": {
          "base_uri": "https://localhost:8080/"
        }
      },
      "outputs": [
        {
          "output_type": "execute_result",
          "data": {
            "text/plain": [
              "17"
            ]
          },
          "metadata": {},
          "execution_count": 30
        }
      ],
      "source": [
        "array5.argmax()"
      ]
    },
    {
      "cell_type": "code",
      "execution_count": 31,
      "id": "9dbdaf3f",
      "metadata": {
        "id": "9dbdaf3f",
        "outputId": "1ed6643e-2eda-4c42-8e57-994d411c08d9",
        "colab": {
          "base_uri": "https://localhost:8080/"
        }
      },
      "outputs": [
        {
          "output_type": "execute_result",
          "data": {
            "text/plain": [
              "0"
            ]
          },
          "metadata": {},
          "execution_count": 31
        }
      ],
      "source": [
        "array5.argmin()"
      ]
    },
    {
      "cell_type": "markdown",
      "id": "1059ab0c",
      "metadata": {
        "id": "1059ab0c"
      },
      "source": [
        "# 11.Concatenate two random NumPy arrays horizontally and vertically."
      ]
    },
    {
      "cell_type": "code",
      "execution_count": 32,
      "id": "8bd2a886",
      "metadata": {
        "id": "8bd2a886"
      },
      "outputs": [],
      "source": [
        "ar1=np.random.randint(0,100,25).reshape(5,5)"
      ]
    },
    {
      "cell_type": "code",
      "execution_count": 33,
      "id": "dc97a0f3",
      "metadata": {
        "id": "dc97a0f3",
        "outputId": "82cf6130-6973-44c4-a89f-0781c2a5cecc",
        "colab": {
          "base_uri": "https://localhost:8080/"
        }
      },
      "outputs": [
        {
          "output_type": "execute_result",
          "data": {
            "text/plain": [
              "array([[ 6, 41, 53, 95, 27],\n",
              "       [ 5, 52, 22, 90, 16],\n",
              "       [71, 82, 48, 20, 82],\n",
              "       [68, 64, 36, 84, 51],\n",
              "       [ 5,  1, 78, 74, 81]])"
            ]
          },
          "metadata": {},
          "execution_count": 33
        }
      ],
      "source": [
        "ar1"
      ]
    },
    {
      "cell_type": "code",
      "execution_count": 34,
      "id": "6f4fe231",
      "metadata": {
        "id": "6f4fe231"
      },
      "outputs": [],
      "source": [
        "ar2=np.random.randint(50,150,25).reshape(5,5)"
      ]
    },
    {
      "cell_type": "code",
      "execution_count": 35,
      "id": "78c4fbaf",
      "metadata": {
        "id": "78c4fbaf",
        "outputId": "24effa5d-33a9-4d5b-f79a-d95fb79c23dd",
        "colab": {
          "base_uri": "https://localhost:8080/"
        }
      },
      "outputs": [
        {
          "output_type": "execute_result",
          "data": {
            "text/plain": [
              "array([[ 68, 106,  51, 104, 126],\n",
              "       [113, 140, 131,  57,  79],\n",
              "       [ 70,  76, 105, 119,  82],\n",
              "       [ 66,  96, 116,  99, 143],\n",
              "       [ 81,  70, 100, 135, 147]])"
            ]
          },
          "metadata": {},
          "execution_count": 35
        }
      ],
      "source": [
        "ar2"
      ]
    },
    {
      "cell_type": "code",
      "execution_count": 36,
      "id": "a78fff46",
      "metadata": {
        "id": "a78fff46",
        "outputId": "84c24861-5835-4226-a819-e93f1c33fffb",
        "colab": {
          "base_uri": "https://localhost:8080/"
        }
      },
      "outputs": [
        {
          "output_type": "execute_result",
          "data": {
            "text/plain": [
              "array([[  6,  41,  53,  95,  27,  68, 106,  51, 104, 126],\n",
              "       [  5,  52,  22,  90,  16, 113, 140, 131,  57,  79],\n",
              "       [ 71,  82,  48,  20,  82,  70,  76, 105, 119,  82],\n",
              "       [ 68,  64,  36,  84,  51,  66,  96, 116,  99, 143],\n",
              "       [  5,   1,  78,  74,  81,  81,  70, 100, 135, 147]])"
            ]
          },
          "metadata": {},
          "execution_count": 36
        }
      ],
      "source": [
        "np.concatenate((ar1,ar2),axis=1)"
      ]
    },
    {
      "cell_type": "code",
      "execution_count": 37,
      "id": "3145a2de",
      "metadata": {
        "id": "3145a2de",
        "outputId": "08a4845b-30ab-45b1-ad31-94cd88e3eb49",
        "colab": {
          "base_uri": "https://localhost:8080/"
        }
      },
      "outputs": [
        {
          "output_type": "execute_result",
          "data": {
            "text/plain": [
              "array([[  6,  41,  53,  95,  27],\n",
              "       [  5,  52,  22,  90,  16],\n",
              "       [ 71,  82,  48,  20,  82],\n",
              "       [ 68,  64,  36,  84,  51],\n",
              "       [  5,   1,  78,  74,  81],\n",
              "       [ 68, 106,  51, 104, 126],\n",
              "       [113, 140, 131,  57,  79],\n",
              "       [ 70,  76, 105, 119,  82],\n",
              "       [ 66,  96, 116,  99, 143],\n",
              "       [ 81,  70, 100, 135, 147]])"
            ]
          },
          "metadata": {},
          "execution_count": 37
        }
      ],
      "source": [
        "np.concatenate((ar1,ar2))"
      ]
    },
    {
      "cell_type": "markdown",
      "id": "95f66edb",
      "metadata": {
        "id": "95f66edb"
      },
      "source": [
        "# 12.Given a 2D NumPy array, calculate the sum of each row and each column separately."
      ]
    },
    {
      "cell_type": "code",
      "execution_count": 38,
      "id": "4a449b11",
      "metadata": {
        "id": "4a449b11",
        "colab": {
          "base_uri": "https://localhost:8080/"
        },
        "outputId": "1d67aafd-0a4c-46cd-b1ad-4938a434e9a4"
      },
      "outputs": [
        {
          "output_type": "execute_result",
          "data": {
            "text/plain": [
              "array([[15, 14, 20, 25, 19],\n",
              "       [31, 18,  7,  2, 34],\n",
              "       [ 3, 20, 16, 14,  8],\n",
              "       [34, 17, 30, 21, 13]])"
            ]
          },
          "metadata": {},
          "execution_count": 38
        }
      ],
      "source": [
        "ar3=np.random.randint(1,35,20).reshape(4,5)\n",
        "ar3"
      ]
    },
    {
      "cell_type": "code",
      "source": [
        "ar3.sum(1) #sum of each row"
      ],
      "metadata": {
        "colab": {
          "base_uri": "https://localhost:8080/"
        },
        "id": "zsWM0gxNipw0",
        "outputId": "c36f54bf-5356-407a-de03-95cb29038c1f"
      },
      "id": "zsWM0gxNipw0",
      "execution_count": 39,
      "outputs": [
        {
          "output_type": "execute_result",
          "data": {
            "text/plain": [
              "array([ 93,  92,  61, 115])"
            ]
          },
          "metadata": {},
          "execution_count": 39
        }
      ]
    },
    {
      "cell_type": "code",
      "source": [
        "ar3.sum(0) # sum of each column"
      ],
      "metadata": {
        "colab": {
          "base_uri": "https://localhost:8080/"
        },
        "id": "ILeCh5J2ix-a",
        "outputId": "e290f574-a9d6-4d86-e5f3-e67a63351fe2"
      },
      "id": "ILeCh5J2ix-a",
      "execution_count": 40,
      "outputs": [
        {
          "output_type": "execute_result",
          "data": {
            "text/plain": [
              "array([83, 69, 73, 62, 74])"
            ]
          },
          "metadata": {},
          "execution_count": 40
        }
      ]
    },
    {
      "cell_type": "markdown",
      "source": [
        "#13.Find the common elements between two NumPy arrays"
      ],
      "metadata": {
        "id": "BPTe79p8jt8U"
      },
      "id": "BPTe79p8jt8U"
    },
    {
      "cell_type": "code",
      "source": [
        "ar4=np.array([23,45,67,89,90,13,46,79,24,68,10,25,76,86])\n",
        "ar4"
      ],
      "metadata": {
        "colab": {
          "base_uri": "https://localhost:8080/"
        },
        "id": "kL5XESY3jOzo",
        "outputId": "47b59693-83a3-4830-f155-65365edc0ad9"
      },
      "id": "kL5XESY3jOzo",
      "execution_count": 41,
      "outputs": [
        {
          "output_type": "execute_result",
          "data": {
            "text/plain": [
              "array([23, 45, 67, 89, 90, 13, 46, 79, 24, 68, 10, 25, 76, 86])"
            ]
          },
          "metadata": {},
          "execution_count": 41
        }
      ]
    },
    {
      "cell_type": "code",
      "source": [
        "ar5=([98,76,54,43,21,34,78,23,46,24,76,13,97,96,68,76,30])\n",
        "ar5"
      ],
      "metadata": {
        "colab": {
          "base_uri": "https://localhost:8080/"
        },
        "id": "upO6LDOYkLKH",
        "outputId": "be734865-1460-417a-bbd5-0c7daa859d83"
      },
      "id": "upO6LDOYkLKH",
      "execution_count": 42,
      "outputs": [
        {
          "output_type": "execute_result",
          "data": {
            "text/plain": [
              "[98, 76, 54, 43, 21, 34, 78, 23, 46, 24, 76, 13, 97, 96, 68, 76, 30]"
            ]
          },
          "metadata": {},
          "execution_count": 42
        }
      ]
    },
    {
      "cell_type": "code",
      "source": [
        "np.intersect1d(ar4,ar5)"
      ],
      "metadata": {
        "colab": {
          "base_uri": "https://localhost:8080/"
        },
        "id": "d2Tb0bswkjCX",
        "outputId": "56569f30-4937-44b3-cf73-2b04002e762c"
      },
      "id": "d2Tb0bswkjCX",
      "execution_count": 43,
      "outputs": [
        {
          "output_type": "execute_result",
          "data": {
            "text/plain": [
              "array([13, 23, 24, 46, 68, 76])"
            ]
          },
          "metadata": {},
          "execution_count": 43
        }
      ]
    },
    {
      "cell_type": "markdown",
      "source": [
        "#14.Replace all negative values in a NumPy array with zeros"
      ],
      "metadata": {
        "id": "tp-fGlnGlPl6"
      },
      "id": "tp-fGlnGlPl6"
    },
    {
      "cell_type": "code",
      "source": [
        "ary1=np.random.randint(-10,30,10).reshape(2,5)\n",
        "ary1"
      ],
      "metadata": {
        "colab": {
          "base_uri": "https://localhost:8080/"
        },
        "id": "z6zPju4YkrSO",
        "outputId": "56ac8fcb-d3f1-4c5d-fd15-d88462bd2d23"
      },
      "id": "z6zPju4YkrSO",
      "execution_count": 44,
      "outputs": [
        {
          "output_type": "execute_result",
          "data": {
            "text/plain": [
              "array([[ 24,  26,  15,  -7,  -8],\n",
              "       [-10,  21,   9,  28,   1]])"
            ]
          },
          "metadata": {},
          "execution_count": 44
        }
      ]
    },
    {
      "cell_type": "code",
      "source": [
        "ary1[ary1<0]=0"
      ],
      "metadata": {
        "id": "Wx9ZhA6blkfj"
      },
      "id": "Wx9ZhA6blkfj",
      "execution_count": 45,
      "outputs": []
    },
    {
      "cell_type": "code",
      "source": [
        "ary1"
      ],
      "metadata": {
        "colab": {
          "base_uri": "https://localhost:8080/"
        },
        "id": "P0mEIDIbmFKO",
        "outputId": "92d88934-8173-44e6-8538-1a56c48503d0"
      },
      "id": "P0mEIDIbmFKO",
      "execution_count": 46,
      "outputs": [
        {
          "output_type": "execute_result",
          "data": {
            "text/plain": [
              "array([[24, 26, 15,  0,  0],\n",
              "       [ 0, 21,  9, 28,  1]])"
            ]
          },
          "metadata": {},
          "execution_count": 46
        }
      ]
    },
    {
      "cell_type": "markdown",
      "source": [
        "#15.Create a NumPy array with random integers between 1 and 100 and then sort it in ascending order."
      ],
      "metadata": {
        "id": "YGZbAOlZmQVc"
      },
      "id": "YGZbAOlZmQVc"
    },
    {
      "cell_type": "code",
      "source": [
        "ary2=np.random.randint(1,100,50)\n",
        "ary2"
      ],
      "metadata": {
        "colab": {
          "base_uri": "https://localhost:8080/"
        },
        "id": "KK7vQs_PmG7d",
        "outputId": "c3089324-6a72-4bd5-ddef-b7d533bcbf10"
      },
      "id": "KK7vQs_PmG7d",
      "execution_count": 47,
      "outputs": [
        {
          "output_type": "execute_result",
          "data": {
            "text/plain": [
              "array([56, 40, 92, 13, 64, 41, 75, 66, 84, 79, 41, 16, 69,  5, 63,  4,  5,\n",
              "       22, 81, 18, 97, 80,  6, 76, 35, 56, 85, 92, 85,  4, 76, 29,  9, 60,\n",
              "       84, 70, 71, 58, 31, 33,  7, 33, 67, 64, 47, 34, 32, 96, 97, 34])"
            ]
          },
          "metadata": {},
          "execution_count": 47
        }
      ]
    },
    {
      "cell_type": "code",
      "source": [
        "ary2.sort()\n",
        "ary2"
      ],
      "metadata": {
        "colab": {
          "base_uri": "https://localhost:8080/"
        },
        "id": "GXij3Rp9nGXC",
        "outputId": "a2f9354e-a3fa-4638-c9ff-f16c18ab7b81"
      },
      "id": "GXij3Rp9nGXC",
      "execution_count": 48,
      "outputs": [
        {
          "output_type": "execute_result",
          "data": {
            "text/plain": [
              "array([ 4,  4,  5,  5,  6,  7,  9, 13, 16, 18, 22, 29, 31, 32, 33, 33, 34,\n",
              "       34, 35, 40, 41, 41, 47, 56, 56, 58, 60, 63, 64, 64, 66, 67, 69, 70,\n",
              "       71, 75, 76, 76, 79, 80, 81, 84, 84, 85, 85, 92, 92, 96, 97, 97])"
            ]
          },
          "metadata": {},
          "execution_count": 48
        }
      ]
    },
    {
      "cell_type": "markdown",
      "source": [
        "#16.Calculate the element-wise absolute difference between two NumPy arrays"
      ],
      "metadata": {
        "id": "RE57qb3GnRj6"
      },
      "id": "RE57qb3GnRj6"
    },
    {
      "cell_type": "code",
      "source": [
        "ary3=np.array([35,65,7,45,3,4,67,98,34,56,7,9,45,2,122,45,70])"
      ],
      "metadata": {
        "id": "SVr_ouUXnLXK"
      },
      "id": "SVr_ouUXnLXK",
      "execution_count": 49,
      "outputs": []
    },
    {
      "cell_type": "code",
      "source": [
        "ary4=np.array([24,34,23,5,8,4,83,21,3,5,7,9,45,67,1,22,44])"
      ],
      "metadata": {
        "id": "DsJbCYW3nznq"
      },
      "id": "DsJbCYW3nznq",
      "execution_count": 50,
      "outputs": []
    },
    {
      "cell_type": "code",
      "source": [
        "np.abs(ary3-ary4)"
      ],
      "metadata": {
        "colab": {
          "base_uri": "https://localhost:8080/"
        },
        "id": "Snk1JnF6oOe6",
        "outputId": "3c27ad9a-43f0-4dde-a25d-5d8bd99c9fbb"
      },
      "id": "Snk1JnF6oOe6",
      "execution_count": 51,
      "outputs": [
        {
          "output_type": "execute_result",
          "data": {
            "text/plain": [
              "array([ 11,  31,  16,  40,   5,   0,  16,  77,  31,  51,   0,   0,   0,\n",
              "        65, 121,  23,  26])"
            ]
          },
          "metadata": {},
          "execution_count": 51
        }
      ]
    },
    {
      "cell_type": "markdown",
      "source": [
        "#17.Given a 2D NumPy array, extract the first row and the last column"
      ],
      "metadata": {
        "id": "Cy6r4G05obTt"
      },
      "id": "Cy6r4G05obTt"
    },
    {
      "cell_type": "code",
      "source": [
        "ary4=np.random.randint(1,100,24).reshape(6,4)\n",
        "ary4"
      ],
      "metadata": {
        "id": "WhTGqL2LoTKg",
        "colab": {
          "base_uri": "https://localhost:8080/"
        },
        "outputId": "cf0dfa0c-d083-4e0d-8821-b67a416d854b"
      },
      "id": "WhTGqL2LoTKg",
      "execution_count": 52,
      "outputs": [
        {
          "output_type": "execute_result",
          "data": {
            "text/plain": [
              "array([[45,  9, 88, 35],\n",
              "       [97, 79, 70, 52],\n",
              "       [20, 97, 28, 30],\n",
              "       [81, 34, 74, 55],\n",
              "       [97, 54, 71, 99],\n",
              "       [10, 52, 10, 74]])"
            ]
          },
          "metadata": {},
          "execution_count": 52
        }
      ]
    },
    {
      "cell_type": "code",
      "source": [
        "print(\"first row\")\n",
        "print(ary4[0])\n",
        "print(\"last column\")\n",
        "print(ary4[:,[-1]])"
      ],
      "metadata": {
        "colab": {
          "base_uri": "https://localhost:8080/"
        },
        "id": "fcik1iyNsFmh",
        "outputId": "021745bb-5f71-4ee7-af40-89354bbe794d"
      },
      "id": "fcik1iyNsFmh",
      "execution_count": 53,
      "outputs": [
        {
          "output_type": "stream",
          "name": "stdout",
          "text": [
            "first row\n",
            "[45  9 88 35]\n",
            "last column\n",
            "[[35]\n",
            " [52]\n",
            " [30]\n",
            " [55]\n",
            " [99]\n",
            " [74]]\n"
          ]
        }
      ]
    },
    {
      "cell_type": "markdown",
      "source": [
        "#18.Slice a 1D NumPy array to get every other element"
      ],
      "metadata": {
        "id": "64TBHu4a8gzN"
      },
      "id": "64TBHu4a8gzN"
    },
    {
      "cell_type": "code",
      "source": [
        "ary5=np.random.randint(1,100,20)\n",
        "ary5"
      ],
      "metadata": {
        "colab": {
          "base_uri": "https://localhost:8080/"
        },
        "id": "AhTGjBWs8gXB",
        "outputId": "e77cb407-7f1a-4dad-9a47-b1ce41a1a353"
      },
      "id": "AhTGjBWs8gXB",
      "execution_count": 54,
      "outputs": [
        {
          "output_type": "execute_result",
          "data": {
            "text/plain": [
              "array([83, 41, 11, 80, 80, 74,  9, 80, 90, 48, 45, 33,  2, 27,  8, 39, 14,\n",
              "       80,  6, 57])"
            ]
          },
          "metadata": {},
          "execution_count": 54
        }
      ]
    },
    {
      "cell_type": "code",
      "source": [
        "ary5[::2]"
      ],
      "metadata": {
        "colab": {
          "base_uri": "https://localhost:8080/"
        },
        "id": "tYivJGkmEMZ-",
        "outputId": "54ec154f-543f-482e-b8a2-74bf111790db"
      },
      "id": "tYivJGkmEMZ-",
      "execution_count": 55,
      "outputs": [
        {
          "output_type": "execute_result",
          "data": {
            "text/plain": [
              "array([83, 11, 80,  9, 90, 45,  2,  8, 14,  6])"
            ]
          },
          "metadata": {},
          "execution_count": 55
        }
      ]
    },
    {
      "cell_type": "markdown",
      "source": [
        "#19.Given a 2D NumPy array, extract a subarray consisting of the central 2x2 elements\n"
      ],
      "metadata": {
        "id": "qIrPcbLuw7EM"
      },
      "id": "qIrPcbLuw7EM"
    },
    {
      "cell_type": "code",
      "source": [
        "ary6=np.random.randint(1,50,24).reshape(6,4)\n",
        "ary6"
      ],
      "metadata": {
        "colab": {
          "base_uri": "https://localhost:8080/"
        },
        "id": "3sLa-OUGsz5C",
        "outputId": "bae90c72-6497-4ca8-cc5c-71faa55ad44c"
      },
      "id": "3sLa-OUGsz5C",
      "execution_count": 56,
      "outputs": [
        {
          "output_type": "execute_result",
          "data": {
            "text/plain": [
              "array([[43, 18, 42, 14],\n",
              "       [13, 11, 28,  5],\n",
              "       [31, 20,  3, 28],\n",
              "       [21, 30, 16, 40],\n",
              "       [ 7, 41, 25, 23],\n",
              "       [41, 34, 40, 44]])"
            ]
          },
          "metadata": {},
          "execution_count": 56
        }
      ]
    },
    {
      "cell_type": "code",
      "source": [
        "row,col=ary6.shape\n",
        "r=row//2-1\n",
        "c=col//2-1\n",
        "print(ary6[r:r+2,[c,c+1]])"
      ],
      "metadata": {
        "colab": {
          "base_uri": "https://localhost:8080/"
        },
        "id": "tm6aushJxvcs",
        "outputId": "4dd55a0a-4384-42d2-c701-259d9fd1d26e"
      },
      "id": "tm6aushJxvcs",
      "execution_count": 57,
      "outputs": [
        {
          "output_type": "stream",
          "name": "stdout",
          "text": [
            "[[20  3]\n",
            " [30 16]]\n"
          ]
        }
      ]
    },
    {
      "cell_type": "markdown",
      "source": [
        "#20.Reverse a 1D NumPy array using slicing"
      ],
      "metadata": {
        "id": "t0JKxPiu7BPv"
      },
      "id": "t0JKxPiu7BPv"
    },
    {
      "cell_type": "code",
      "source": [
        "ar=np.array([12,34,56,78,90,98,76,54,32,10,135,61,52,43,91,65,20])\n",
        "print(\"\\t array \",ar)\n",
        "arr=ar[::-1]\n",
        "print(\"reversed array\",arr)"
      ],
      "metadata": {
        "colab": {
          "base_uri": "https://localhost:8080/"
        },
        "id": "QE6G4IaPy-9d",
        "outputId": "a29fcc5b-e6f2-4d2c-c859-0505e48bc8d6"
      },
      "id": "QE6G4IaPy-9d",
      "execution_count": 58,
      "outputs": [
        {
          "output_type": "stream",
          "name": "stdout",
          "text": [
            "\t array  [ 12  34  56  78  90  98  76  54  32  10 135  61  52  43  91  65  20]\n",
            "reversed array [ 20  65  91  43  52  61 135  10  32  54  76  98  90  78  56  34  12]\n"
          ]
        }
      ]
    },
    {
      "cell_type": "code",
      "source": [],
      "metadata": {
        "id": "1pG9Xt1ONNNl"
      },
      "id": "1pG9Xt1ONNNl",
      "execution_count": null,
      "outputs": []
    }
  ],
  "metadata": {
    "kernelspec": {
      "display_name": "Python 3 (ipykernel)",
      "language": "python",
      "name": "python3"
    },
    "language_info": {
      "codemirror_mode": {
        "name": "ipython",
        "version": 3
      },
      "file_extension": ".py",
      "mimetype": "text/x-python",
      "name": "python",
      "nbconvert_exporter": "python",
      "pygments_lexer": "ipython3",
      "version": "3.11.5"
    },
    "colab": {
      "provenance": []
    }
  },
  "nbformat": 4,
  "nbformat_minor": 5
}