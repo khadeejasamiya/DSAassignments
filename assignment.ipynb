{
  "nbformat": 4,
  "nbformat_minor": 0,
  "metadata": {
    "colab": {
      "provenance": []
    },
    "kernelspec": {
      "name": "python3",
      "display_name": "Python 3"
    },
    "language_info": {
      "name": "python"
    }
  },
  "cells": [
    {
      "cell_type": "code",
      "execution_count": null,
      "metadata": {
        "colab": {
          "base_uri": "https://localhost:8080/"
        },
        "id": "muP2b6cvfzck",
        "outputId": "e26ba842-a3ca-4283-ca60-1f62cbe89230"
      },
      "outputs": [
        {
          "output_type": "stream",
          "name": "stdout",
          "text": [
            "enter first number56\n",
            "enter second number64\n",
            "sum is 120\n"
          ]
        }
      ],
      "source": [
        "# find sum\n",
        "a=int(input(\"enter first number\"))\n",
        "b=int(input(\"enter second number\"))\n",
        "sum=a+b\n",
        "print(\"sum is\",sum)"
      ]
    },
    {
      "cell_type": "code",
      "source": [
        "# find product\n",
        "x=int(input(\"enter first number\"))\n",
        "y=int(input(\"enter second number\"))\n",
        "product=x*y\n",
        "print(\"product is\",product)"
      ],
      "metadata": {
        "colab": {
          "base_uri": "https://localhost:8080/"
        },
        "id": "4_lwxuExgPKg",
        "outputId": "79d0cdf1-2baa-4f08-876b-0b752299306c"
      },
      "execution_count": null,
      "outputs": [
        {
          "output_type": "stream",
          "name": "stdout",
          "text": [
            "enter first number78\n",
            "enter second number2\n",
            "product is 156\n"
          ]
        }
      ]
    },
    {
      "cell_type": "code",
      "source": [
        "#find quotient and remainder\n",
        "x=int(input(\"enter first number\"))\n",
        "y=int(input(\"enter second number\"))\n",
        "if y==0:\n",
        "  print(\"error:division by zero not possible\")\n",
        "else:\n",
        "  quo=x/y\n",
        "  rem=x%y\n",
        "  print(\"quotient is\",quo)\n",
        "  print(\"remainder is\",rem)"
      ],
      "metadata": {
        "colab": {
          "base_uri": "https://localhost:8080/"
        },
        "id": "JauuYcS3hBue",
        "outputId": "c32acf0f-9058-4652-912f-127b27a7c67b"
      },
      "execution_count": 3,
      "outputs": [
        {
          "output_type": "stream",
          "name": "stdout",
          "text": [
            "enter first number57\n",
            "enter second number2\n",
            "quotient is 28.5\n",
            "remainder is 1\n"
          ]
        }
      ]
    },
    {
      "cell_type": "code",
      "source": [
        "# find length of a string\n",
        "s=input(\"enter a string \")\n",
        "len(s)"
      ],
      "metadata": {
        "id": "OzcrC5-Qhrmd",
        "colab": {
          "base_uri": "https://localhost:8080/"
        },
        "outputId": "1e3bb7f6-fb4e-4748-f339-23271593c7c5"
      },
      "execution_count": 4,
      "outputs": [
        {
          "name": "stdout",
          "output_type": "stream",
          "text": [
            "enter a string python programming\n"
          ]
        },
        {
          "output_type": "execute_result",
          "data": {
            "text/plain": [
              "18"
            ]
          },
          "metadata": {},
          "execution_count": 4
        }
      ]
    },
    {
      "cell_type": "code",
      "source": [
        "# find the number of occurence of a character in string\n",
        "n=\"hello welcome to python\"\n",
        "n.count('l')"
      ],
      "metadata": {
        "colab": {
          "base_uri": "https://localhost:8080/"
        },
        "id": "G7Pcy8Z1ieEc",
        "outputId": "44506f30-a44e-45b4-942d-3e1545154484"
      },
      "execution_count": 5,
      "outputs": [
        {
          "output_type": "execute_result",
          "data": {
            "text/plain": [
              "3"
            ]
          },
          "metadata": {},
          "execution_count": 5
        }
      ]
    },
    {
      "cell_type": "code",
      "source": [
        "#convert to uppercase\n",
        "m=\"hello world\"\n",
        "m.upper()"
      ],
      "metadata": {
        "colab": {
          "base_uri": "https://localhost:8080/",
          "height": 35
        },
        "id": "vyf22qoLkMhO",
        "outputId": "90564a51-634a-4c04-b41c-e52bfdccd70b"
      },
      "execution_count": 6,
      "outputs": [
        {
          "output_type": "execute_result",
          "data": {
            "text/plain": [
              "'HELLO WORLD'"
            ],
            "application/vnd.google.colaboratory.intrinsic+json": {
              "type": "string"
            }
          },
          "metadata": {},
          "execution_count": 6
        }
      ]
    },
    {
      "cell_type": "code",
      "source": [
        "#convert to lowercase\n",
        "m=\"GOOgle Colab\"\n",
        "m.lower()"
      ],
      "metadata": {
        "colab": {
          "base_uri": "https://localhost:8080/",
          "height": 35
        },
        "id": "YC4i7sfLkvC7",
        "outputId": "6558e9f0-8c71-4c11-d27a-1e4521882108"
      },
      "execution_count": 7,
      "outputs": [
        {
          "output_type": "execute_result",
          "data": {
            "text/plain": [
              "'google colab'"
            ],
            "application/vnd.google.colaboratory.intrinsic+json": {
              "type": "string"
            }
          },
          "metadata": {},
          "execution_count": 7
        }
      ]
    },
    {
      "cell_type": "code",
      "source": [],
      "metadata": {
        "id": "wkwWmHnok5X8"
      },
      "execution_count": null,
      "outputs": []
    }
  ]
}